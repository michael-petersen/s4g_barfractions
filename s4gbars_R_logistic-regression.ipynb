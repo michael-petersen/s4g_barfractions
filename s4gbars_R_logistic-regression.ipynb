{
 "cells": [
  {
   "cell_type": "markdown",
   "metadata": {},
   "source": [
    "This Jupyter notebook assumes that the R kernel for Jupyter (IRkernel) has been installed; see\n",
    "https://irkernel.github.io/installation/\n",
    "\n",
    "It also requires the survey package: \n",
    "https://cran.r-project.org/package=survey"
   ]
  },
  {
   "cell_type": "markdown",
   "metadata": {},
   "source": [
    "## Preliminary Setup"
   ]
  },
  {
   "cell_type": "code",
   "execution_count": 1,
   "metadata": {
    "scrolled": true
   },
   "outputs": [
    {
     "name": "stderr",
     "output_type": "stream",
     "text": [
      "Loading required package: grid\n",
      "Loading required package: Matrix\n",
      "Loading required package: survival\n",
      "\n",
      "Attaching package: ‘survey’\n",
      "\n",
      "The following object is masked from ‘package:graphics’:\n",
      "\n",
      "    dotchart\n",
      "\n"
     ]
    }
   ],
   "source": [
    "library(survey)"
   ]
  },
  {
   "cell_type": "markdown",
   "metadata": {},
   "source": [
    "Set the following so that it points to the directory with the (text) data files:"
   ]
  },
  {
   "cell_type": "code",
   "execution_count": 2,
   "metadata": {
    "collapsed": true
   },
   "outputs": [],
   "source": [
    "basedir <- \"./data/\""
   ]
  },
  {
   "cell_type": "markdown",
   "metadata": {},
   "source": [
    "## Weighted logistic regression for Sample 1: log(M_star) alone"
   ]
  },
  {
   "cell_type": "markdown",
   "metadata": {},
   "source": [
    "Logistic regression for fraction of galaxies with bars as a function of stellar mass $\\log (M_{\\star} / M_{\\odot})$, using S4G galaxies in Sample 1 (spirals at $D \\leq 25$ Mpc) with stellar\n",
    "masses between $\\log M_{\\star} = 8.5$ and 11, with $V/V_{\\rm max}$ weighting to account for S4G angular diameter limit."
   ]
  },
  {
   "cell_type": "markdown",
   "metadata": {},
   "source": [
    "Load data into table and then Survey-package design object"
   ]
  },
  {
   "cell_type": "code",
   "execution_count": 3,
   "metadata": {},
   "outputs": [
    {
     "data": {
      "text/html": [
       "563"
      ],
      "text/latex": [
       "563"
      ],
      "text/markdown": [
       "563"
      ],
      "text/plain": [
       "[1] 563"
      ]
     },
     "metadata": {},
     "output_type": "display_data"
    }
   ],
   "source": [
    "ff <- paste(basedir, \"barpresence_vs_logmstar_for_R_w25_m8.5-11.txt\", sep=\"\")\n",
    "logmstarBarWTable <- read.table(ff, header=TRUE)\n",
    "logmstarBarWDesign <- svydesign(ids=~0, data=logmstarBarWTable, weights=~weight)\n",
    "length(logmstarBarWTable$bar)"
   ]
  },
  {
   "cell_type": "markdown",
   "metadata": {},
   "source": [
    "Standard linear logistic regression: bar fraction versus log of stellar mass"
   ]
  },
  {
   "cell_type": "code",
   "execution_count": 4,
   "metadata": {},
   "outputs": [
    {
     "data": {
      "text/plain": [
       "\n",
       "Call:\n",
       "svyglm(formula = bar ~ logmstar, design = logmstarBarWDesign, \n",
       "    family = quasibinomial)\n",
       "\n",
       "Survey design:\n",
       "svydesign(ids = ~0, data = logmstarBarWTable, weights = ~weight)\n",
       "\n",
       "Coefficients:\n",
       "            Estimate Std. Error t value Pr(>|t|)\n",
       "(Intercept)  -1.4487     1.8675  -0.776    0.438\n",
       "logmstar      0.1934     0.1897   1.019    0.308\n",
       "\n",
       "(Dispersion parameter for quasibinomial family taken to be 1.00235)\n",
       "\n",
       "Number of Fisher Scoring iterations: 4\n"
      ]
     },
     "metadata": {},
     "output_type": "display_data"
    }
   ],
   "source": [
    "logMstarWFit1 <- svyglm(bar ~ logmstar, design=logmstarBarWDesign, family=quasibinomial)\n",
    "summary(logMstarWFit1)"
   ]
  },
  {
   "cell_type": "markdown",
   "metadata": {},
   "source": [
    "Quadratic linear logistic regression: bar fraction versus log of stellar mass + square of same"
   ]
  },
  {
   "cell_type": "code",
   "execution_count": 5,
   "metadata": {},
   "outputs": [
    {
     "data": {
      "text/plain": [
       "\n",
       "Call:\n",
       "svyglm(formula = bar ~ logmstar + I(logmstar^2), design = logmstarBarWDesign, \n",
       "    family = quasibinomial)\n",
       "\n",
       "Survey design:\n",
       "svydesign(ids = ~0, data = logmstarBarWTable, weights = ~weight)\n",
       "\n",
       "Coefficients:\n",
       "              Estimate Std. Error t value Pr(>|t|)    \n",
       "(Intercept)   -83.7853    25.6579  -3.265 0.001160 ** \n",
       "logmstar       17.3692     5.2634   3.300 0.001028 ** \n",
       "I(logmstar^2)  -0.8911     0.2690  -3.313 0.000984 ***\n",
       "---\n",
       "Signif. codes:  0 ‘***’ 0.001 ‘**’ 0.01 ‘*’ 0.05 ‘.’ 0.1 ‘ ’ 1\n",
       "\n",
       "(Dispersion parameter for quasibinomial family taken to be 1.00151)\n",
       "\n",
       "Number of Fisher Scoring iterations: 4\n"
      ]
     },
     "metadata": {},
     "output_type": "display_data"
    }
   ],
   "source": [
    "logMstarWFit2 <- svyglm(bar ~ logmstar + I(logmstar^2), design=logmstarBarWDesign, family=quasibinomial)\n",
    "summary(logMstarWFit2)"
   ]
  },
  {
   "cell_type": "markdown",
   "metadata": {},
   "source": [
    "### Comparison of AIC values"
   ]
  },
  {
   "cell_type": "code",
   "execution_count": 6,
   "metadata": {},
   "outputs": [
    {
     "data": {
      "text/html": [
       "<dl class=dl-horizontal>\n",
       "\t<dt>eff.p</dt>\n",
       "\t\t<dd>2.09143063431733</dd>\n",
       "\t<dt>AIC</dt>\n",
       "\t\t<dd>762.585777790543</dd>\n",
       "\t<dt>deltabar</dt>\n",
       "\t\t<dd>2.09143063431733</dd>\n",
       "</dl>\n"
      ],
      "text/latex": [
       "\\begin{description*}\n",
       "\\item[eff.p] 2.09143063431733\n",
       "\\item[AIC] 762.585777790543\n",
       "\\item[deltabar] 2.09143063431733\n",
       "\\end{description*}\n"
      ],
      "text/markdown": [
       "eff.p\n",
       ":   2.09143063431733AIC\n",
       ":   762.585777790543deltabar\n",
       ":   2.09143063431733\n",
       "\n"
      ],
      "text/plain": [
       "     eff.p        AIC   deltabar \n",
       "  2.091431 762.585778   2.091431 "
      ]
     },
     "metadata": {},
     "output_type": "display_data"
    },
    {
     "data": {
      "text/html": [
       "<dl class=dl-horizontal>\n",
       "\t<dt>eff.p</dt>\n",
       "\t\t<dd>3.47717601693876</dd>\n",
       "\t<dt>AIC</dt>\n",
       "\t\t<dd>747.729940370879</dd>\n",
       "\t<dt>deltabar</dt>\n",
       "\t\t<dd>1.73858800846938</dd>\n",
       "</dl>\n"
      ],
      "text/latex": [
       "\\begin{description*}\n",
       "\\item[eff.p] 3.47717601693876\n",
       "\\item[AIC] 747.729940370879\n",
       "\\item[deltabar] 1.73858800846938\n",
       "\\end{description*}\n"
      ],
      "text/markdown": [
       "eff.p\n",
       ":   3.47717601693876AIC\n",
       ":   747.729940370879deltabar\n",
       ":   1.73858800846938\n",
       "\n"
      ],
      "text/plain": [
       "     eff.p        AIC   deltabar \n",
       "  3.477176 747.729940   1.738588 "
      ]
     },
     "metadata": {},
     "output_type": "display_data"
    }
   ],
   "source": [
    "AIC(logMstarWFit1)\n",
    "AIC(logMstarWFit2)"
   ]
  },
  {
   "cell_type": "code",
   "execution_count": 7,
   "metadata": {},
   "outputs": [
    {
     "data": {
      "text/html": [
       "-14.856"
      ],
      "text/latex": [
       "-14.856"
      ],
      "text/markdown": [
       "-14.856"
      ],
      "text/plain": [
       "[1] -14.856"
      ]
     },
     "metadata": {},
     "output_type": "display_data"
    }
   ],
   "source": [
    "747.73 - 762.586"
   ]
  },
  {
   "cell_type": "markdown",
   "metadata": {},
   "source": [
    "#### Summary\n",
    "\n",
    "Since the quadratic fit has $\\Delta$AIC $= -14.9$ relative to the linear fit, it is clearly preferred."
   ]
  },
  {
   "cell_type": "markdown",
   "metadata": {
    "collapsed": true
   },
   "source": [
    "## Weighted logistic regression for Sample 1: f(bar) vs log(M_star) and g-r"
   ]
  },
  {
   "cell_type": "markdown",
   "metadata": {},
   "source": [
    "Same as previous section, but now we do logistic regression versus both stellar mass and $g - r$ color, using a subsample\n",
    "of Sample 1 galaxies with color data."
   ]
  },
  {
   "cell_type": "code",
   "execution_count": 8,
   "metadata": {},
   "outputs": [
    {
     "data": {
      "text/html": [
       "319"
      ],
      "text/latex": [
       "319"
      ],
      "text/markdown": [
       "319"
      ],
      "text/plain": [
       "[1] 319"
      ]
     },
     "metadata": {},
     "output_type": "display_data"
    }
   ],
   "source": [
    "ff <- paste(basedir, \"barpresence_vs_logmstar-gmr_for_R_w25.txt\", sep=\"\")\n",
    "logmstargmrBarWTable <- read.table(ff, header=TRUE)\n",
    "gmrBarWDesign <- svydesign(ids=~0, data=logmstargmrBarWTable, weights=~weight)\n",
    "length(logmstargmrBarWTable$bar)"
   ]
  },
  {
   "cell_type": "markdown",
   "metadata": {},
   "source": [
    "### Linear fit of $f_{\\rm bar}$ vs just $g - r$"
   ]
  },
  {
   "cell_type": "code",
   "execution_count": 9,
   "metadata": {},
   "outputs": [
    {
     "ename": "ERROR",
     "evalue": "Error in summary(gmrWFit1): object 'gmrWFit1' not found\n",
     "output_type": "error",
     "traceback": [
      "Error in summary(gmrWFit1): object 'gmrWFit1' not found\nTraceback:\n",
      "1. summary(gmrWFit1)"
     ]
    }
   ],
   "source": [
    "gmrWFit_gmr <- svyglm(bar ~ gmr, design=gmrBarWDesign, family=quasibinomial)\n",
    "summary(gmrWFit1)"
   ]
  },
  {
   "cell_type": "markdown",
   "metadata": {},
   "source": [
    "### Fit vs just logMstar for same sample: linear, then quadratic"
   ]
  },
  {
   "cell_type": "code",
   "execution_count": 10,
   "metadata": {},
   "outputs": [
    {
     "ename": "ERROR",
     "evalue": "Error in summary(gmrWFit2a): object 'gmrWFit2a' not found\n",
     "output_type": "error",
     "traceback": [
      "Error in summary(gmrWFit2a): object 'gmrWFit2a' not found\nTraceback:\n",
      "1. summary(gmrWFit2a)"
     ]
    }
   ],
   "source": [
    "# same sample, vs logmstar (linear) only\n",
    "gmrWFit_logmstar <- svyglm(bar ~ logmstar, design=gmrBarWDesign, family=quasibinomial)\n",
    "summary(gmrWFit2a)"
   ]
  },
  {
   "cell_type": "code",
   "execution_count": 11,
   "metadata": {},
   "outputs": [
    {
     "ename": "ERROR",
     "evalue": "Error in summary(gmrWFit2b): object 'gmrWFit2b' not found\n",
     "output_type": "error",
     "traceback": [
      "Error in summary(gmrWFit2b): object 'gmrWFit2b' not found\nTraceback:\n",
      "1. summary(gmrWFit2b)"
     ]
    }
   ],
   "source": [
    "# same sample, vs logmstar (quadratic) only\n",
    "gmrWFit_logmstar2 <- svyglm(bar ~ logmstar + I(logmstar^2), design=gmrBarWDesign, family=quasibinomial)\n",
    "summary(gmrWFit2b)"
   ]
  },
  {
   "cell_type": "markdown",
   "metadata": {},
   "source": [
    "### Finally, fit vs logMstar (quadratic) *and* g-r"
   ]
  },
  {
   "cell_type": "code",
   "execution_count": 12,
   "metadata": {},
   "outputs": [
    {
     "ename": "ERROR",
     "evalue": "Error in summary(gmrWFit3): object 'gmrWFit3' not found\n",
     "output_type": "error",
     "traceback": [
      "Error in summary(gmrWFit3): object 'gmrWFit3' not found\nTraceback:\n",
      "1. summary(gmrWFit3)"
     ]
    }
   ],
   "source": [
    "gmrWFit_gmrlogmstar2 <- svyglm(bar ~ logmstar + I(logmstar^2) + gmr, design=gmrBarWDesign, family=quasibinomial)\n",
    "summary(gmrWFit3)"
   ]
  },
  {
   "cell_type": "markdown",
   "metadata": {},
   "source": [
    "### Comparison of AIC values"
   ]
  },
  {
   "cell_type": "code",
   "execution_count": 13,
   "metadata": {},
   "outputs": [
    {
     "data": {
      "text/html": [
       "<dl class=dl-horizontal>\n",
       "\t<dt>eff.p</dt>\n",
       "\t\t<dd>1.41668065582433</dd>\n",
       "\t<dt>AIC</dt>\n",
       "\t\t<dd>438.038874982745</dd>\n",
       "\t<dt>deltabar</dt>\n",
       "\t\t<dd>1.41668065582433</dd>\n",
       "</dl>\n"
      ],
      "text/latex": [
       "\\begin{description*}\n",
       "\\item[eff.p] 1.41668065582433\n",
       "\\item[AIC] 438.038874982745\n",
       "\\item[deltabar] 1.41668065582433\n",
       "\\end{description*}\n"
      ],
      "text/markdown": [
       "eff.p\n",
       ":   1.41668065582433AIC\n",
       ":   438.038874982745deltabar\n",
       ":   1.41668065582433\n",
       "\n"
      ],
      "text/plain": [
       "     eff.p        AIC   deltabar \n",
       "  1.416681 438.038875   1.416681 "
      ]
     },
     "metadata": {},
     "output_type": "display_data"
    },
    {
     "data": {
      "text/html": [
       "<dl class=dl-horizontal>\n",
       "\t<dt>eff.p</dt>\n",
       "\t\t<dd>2.03774799944452</dd>\n",
       "\t<dt>AIC</dt>\n",
       "\t\t<dd>436.992069103173</dd>\n",
       "\t<dt>deltabar</dt>\n",
       "\t\t<dd>2.03774799944452</dd>\n",
       "</dl>\n"
      ],
      "text/latex": [
       "\\begin{description*}\n",
       "\\item[eff.p] 2.03774799944452\n",
       "\\item[AIC] 436.992069103173\n",
       "\\item[deltabar] 2.03774799944452\n",
       "\\end{description*}\n"
      ],
      "text/markdown": [
       "eff.p\n",
       ":   2.03774799944452AIC\n",
       ":   436.992069103173deltabar\n",
       ":   2.03774799944452\n",
       "\n"
      ],
      "text/plain": [
       "     eff.p        AIC   deltabar \n",
       "  2.037748 436.992069   2.037748 "
      ]
     },
     "metadata": {},
     "output_type": "display_data"
    },
    {
     "data": {
      "text/html": [
       "<dl class=dl-horizontal>\n",
       "\t<dt>eff.p</dt>\n",
       "\t\t<dd>3.74054021314305</dd>\n",
       "\t<dt>AIC</dt>\n",
       "\t\t<dd>431.339578820795</dd>\n",
       "\t<dt>deltabar</dt>\n",
       "\t\t<dd>1.87027010657153</dd>\n",
       "</dl>\n"
      ],
      "text/latex": [
       "\\begin{description*}\n",
       "\\item[eff.p] 3.74054021314305\n",
       "\\item[AIC] 431.339578820795\n",
       "\\item[deltabar] 1.87027010657153\n",
       "\\end{description*}\n"
      ],
      "text/markdown": [
       "eff.p\n",
       ":   3.74054021314305AIC\n",
       ":   431.339578820795deltabar\n",
       ":   1.87027010657153\n",
       "\n"
      ],
      "text/plain": [
       "    eff.p       AIC  deltabar \n",
       "  3.74054 431.33958   1.87027 "
      ]
     },
     "metadata": {},
     "output_type": "display_data"
    },
    {
     "data": {
      "text/html": [
       "<dl class=dl-horizontal>\n",
       "\t<dt>eff.p</dt>\n",
       "\t\t<dd>5.39543250991863</dd>\n",
       "\t<dt>AIC</dt>\n",
       "\t\t<dd>432.824119755678</dd>\n",
       "\t<dt>deltabar</dt>\n",
       "\t\t<dd>1.79847750330621</dd>\n",
       "</dl>\n"
      ],
      "text/latex": [
       "\\begin{description*}\n",
       "\\item[eff.p] 5.39543250991863\n",
       "\\item[AIC] 432.824119755678\n",
       "\\item[deltabar] 1.79847750330621\n",
       "\\end{description*}\n"
      ],
      "text/markdown": [
       "eff.p\n",
       ":   5.39543250991863AIC\n",
       ":   432.824119755678deltabar\n",
       ":   1.79847750330621\n",
       "\n"
      ],
      "text/plain": [
       "     eff.p        AIC   deltabar \n",
       "  5.395433 432.824120   1.798478 "
      ]
     },
     "metadata": {},
     "output_type": "display_data"
    }
   ],
   "source": [
    "AIC(gmrWFit_gmr)\n",
    "AIC(gmrWFit_logmstar)\n",
    "AIC(gmrWFit_logmstar2)\n",
    "AIC(gmrWFit_gmrlogmstar2)"
   ]
  },
  {
   "cell_type": "markdown",
   "metadata": {},
   "source": [
    "#### Summary\n",
    "\n",
    "Best fit from AIC standpoint is quadratic logMstar (*without* $g - r$) -- note that its AIC is actually *lower*\n",
    "than the AIC for the quadric logMstar + $g - r$ fit."
   ]
  },
  {
   "cell_type": "markdown",
   "metadata": {},
   "source": [
    "## Weighted logistic regression for Sample 1: f(bar) vs log(M_star) and log(f_gas)"
   ]
  },
  {
   "cell_type": "markdown",
   "metadata": {},
   "source": [
    "Same as previous section, but now we do logistic regression versus both log of stellar mass and log of gas mass ratio $f{\\rm gas} = M_{\\rm HI} / M_{\\star}$, using a subsample\n",
    "of Sample 1 galaxies with H I data."
   ]
  },
  {
   "cell_type": "code",
   "execution_count": 14,
   "metadata": {},
   "outputs": [
    {
     "data": {
      "text/html": [
       "556"
      ],
      "text/latex": [
       "556"
      ],
      "text/markdown": [
       "556"
      ],
      "text/plain": [
       "[1] 556"
      ]
     },
     "metadata": {},
     "output_type": "display_data"
    }
   ],
   "source": [
    "basedir <- \"/Users/erwin/Documents/Working/Projects/Project_BarSizes/\"\n",
    "ff <- paste(basedir, \"barpresence_vs_logmstar-logfgas_for_R_w25.txt\", sep=\"\")\n",
    "logMstarfgasBarWTable <- read.table(ff, header=TRUE)\n",
    "logMstarfgasBarWDesign <- svydesign(ids=~0, data=logMstarfgasBarWTable, weights=~weight)\n",
    "length(logMstarfgasBarWTable$bar)"
   ]
  },
  {
   "cell_type": "markdown",
   "metadata": {},
   "source": [
    "### Fit vs just log(f_gas)"
   ]
  },
  {
   "cell_type": "code",
   "execution_count": 15,
   "metadata": {},
   "outputs": [
    {
     "ename": "ERROR",
     "evalue": "Error in summary(logMstarlogfgasWFit1): object 'logMstarlogfgasWFit1' not found\n",
     "output_type": "error",
     "traceback": [
      "Error in summary(logMstarlogfgasWFit1): object 'logMstarlogfgasWFit1' not found\nTraceback:\n",
      "1. summary(logMstarlogfgasWFit1)"
     ]
    }
   ],
   "source": [
    "logMstarlogfgasWFit_fgas <- svyglm(bar ~ logfgas, design=logMstarfgasBarWDesign, family=quasibinomial)\n",
    "summary(logMstarlogfgasWFit1)"
   ]
  },
  {
   "cell_type": "markdown",
   "metadata": {},
   "source": [
    "### Fit vs just logMstar: linear, then quadratic"
   ]
  },
  {
   "cell_type": "code",
   "execution_count": 16,
   "metadata": {},
   "outputs": [
    {
     "ename": "ERROR",
     "evalue": "Error in summary(logMstarlogfgasWFit2a): object 'logMstarlogfgasWFit2a' not found\n",
     "output_type": "error",
     "traceback": [
      "Error in summary(logMstarlogfgasWFit2a): object 'logMstarlogfgasWFit2a' not found\nTraceback:\n",
      "1. summary(logMstarlogfgasWFit2a)"
     ]
    }
   ],
   "source": [
    "logMstarlogfgasWFit_logmstar <- svyglm(bar ~ logmstar, design=logMstarfgasBarWDesign, family=quasibinomial)\n",
    "summary(logMstarlogfgasWFit2a)"
   ]
  },
  {
   "cell_type": "code",
   "execution_count": 17,
   "metadata": {},
   "outputs": [
    {
     "ename": "ERROR",
     "evalue": "Error in summary(logMstarlogfgasWFit2b): object 'logMstarlogfgasWFit2b' not found\n",
     "output_type": "error",
     "traceback": [
      "Error in summary(logMstarlogfgasWFit2b): object 'logMstarlogfgasWFit2b' not found\nTraceback:\n",
      "1. summary(logMstarlogfgasWFit2b)"
     ]
    }
   ],
   "source": [
    "logMstarlogfgasWFit_logmstar2 <- svyglm(bar ~ logmstar + I(logmstar^2), design=logMstarfgasBarWDesign, family=quasibinomial)\n",
    "summary(logMstarlogfgasWFit2b)"
   ]
  },
  {
   "cell_type": "markdown",
   "metadata": {},
   "source": [
    "### Finally, fit vs logMstar (quadratic) *and* log(f_gas)"
   ]
  },
  {
   "cell_type": "code",
   "execution_count": 18,
   "metadata": {},
   "outputs": [
    {
     "ename": "ERROR",
     "evalue": "Error in summary(logMstarlogfgasWFit3): object 'logMstarlogfgasWFit3' not found\n",
     "output_type": "error",
     "traceback": [
      "Error in summary(logMstarlogfgasWFit3): object 'logMstarlogfgasWFit3' not found\nTraceback:\n",
      "1. summary(logMstarlogfgasWFit3)"
     ]
    }
   ],
   "source": [
    "logMstarlogfgasWFit_fgaslogmstar2 <- svyglm(bar ~ logmstar + I(logmstar^2) + logfgas, design=logMstarfgasBarWDesign, family=quasibinomial)\n",
    "summary(logMstarlogfgasWFit3)"
   ]
  },
  {
   "cell_type": "markdown",
   "metadata": {},
   "source": [
    "### Comparison of AIC values"
   ]
  },
  {
   "cell_type": "code",
   "execution_count": 19,
   "metadata": {},
   "outputs": [
    {
     "data": {
      "text/html": [
       "<dl class=dl-horizontal>\n",
       "\t<dt>eff.p</dt>\n",
       "\t\t<dd>2.31228900497439</dd>\n",
       "\t<dt>AIC</dt>\n",
       "\t\t<dd>753.721772291837</dd>\n",
       "\t<dt>deltabar</dt>\n",
       "\t\t<dd>2.31228900497439</dd>\n",
       "</dl>\n"
      ],
      "text/latex": [
       "\\begin{description*}\n",
       "\\item[eff.p] 2.31228900497439\n",
       "\\item[AIC] 753.721772291837\n",
       "\\item[deltabar] 2.31228900497439\n",
       "\\end{description*}\n"
      ],
      "text/markdown": [
       "eff.p\n",
       ":   2.31228900497439AIC\n",
       ":   753.721772291837deltabar\n",
       ":   2.31228900497439\n",
       "\n"
      ],
      "text/plain": [
       "     eff.p        AIC   deltabar \n",
       "  2.312289 753.721772   2.312289 "
      ]
     },
     "metadata": {},
     "output_type": "display_data"
    },
    {
     "data": {
      "text/html": [
       "<dl class=dl-horizontal>\n",
       "\t<dt>eff.p</dt>\n",
       "\t\t<dd>2.11682385197635</dd>\n",
       "\t<dt>AIC</dt>\n",
       "\t\t<dd>751.715326944463</dd>\n",
       "\t<dt>deltabar</dt>\n",
       "\t\t<dd>2.11682385197635</dd>\n",
       "</dl>\n"
      ],
      "text/latex": [
       "\\begin{description*}\n",
       "\\item[eff.p] 2.11682385197635\n",
       "\\item[AIC] 751.715326944463\n",
       "\\item[deltabar] 2.11682385197635\n",
       "\\end{description*}\n"
      ],
      "text/markdown": [
       "eff.p\n",
       ":   2.11682385197635AIC\n",
       ":   751.715326944463deltabar\n",
       ":   2.11682385197635\n",
       "\n"
      ],
      "text/plain": [
       "     eff.p        AIC   deltabar \n",
       "  2.116824 751.715327   2.116824 "
      ]
     },
     "metadata": {},
     "output_type": "display_data"
    },
    {
     "data": {
      "text/html": [
       "<dl class=dl-horizontal>\n",
       "\t<dt>eff.p</dt>\n",
       "\t\t<dd>3.49151277295186</dd>\n",
       "\t<dt>AIC</dt>\n",
       "\t\t<dd>736.604824165618</dd>\n",
       "\t<dt>deltabar</dt>\n",
       "\t\t<dd>1.74575638647593</dd>\n",
       "</dl>\n"
      ],
      "text/latex": [
       "\\begin{description*}\n",
       "\\item[eff.p] 3.49151277295186\n",
       "\\item[AIC] 736.604824165618\n",
       "\\item[deltabar] 1.74575638647593\n",
       "\\end{description*}\n"
      ],
      "text/markdown": [
       "eff.p\n",
       ":   3.49151277295186AIC\n",
       ":   736.604824165618deltabar\n",
       ":   1.74575638647593\n",
       "\n"
      ],
      "text/plain": [
       "     eff.p        AIC   deltabar \n",
       "  3.491513 736.604824   1.745756 "
      ]
     },
     "metadata": {},
     "output_type": "display_data"
    },
    {
     "data": {
      "text/html": [
       "<dl class=dl-horizontal>\n",
       "\t<dt>eff.p</dt>\n",
       "\t\t<dd>7.46475123954232</dd>\n",
       "\t<dt>AIC</dt>\n",
       "\t\t<dd>743.083606530677</dd>\n",
       "\t<dt>deltabar</dt>\n",
       "\t\t<dd>2.48825041318077</dd>\n",
       "</dl>\n"
      ],
      "text/latex": [
       "\\begin{description*}\n",
       "\\item[eff.p] 7.46475123954232\n",
       "\\item[AIC] 743.083606530677\n",
       "\\item[deltabar] 2.48825041318077\n",
       "\\end{description*}\n"
      ],
      "text/markdown": [
       "eff.p\n",
       ":   7.46475123954232AIC\n",
       ":   743.083606530677deltabar\n",
       ":   2.48825041318077\n",
       "\n"
      ],
      "text/plain": [
       "     eff.p        AIC   deltabar \n",
       "  7.464751 743.083607   2.488250 "
      ]
     },
     "metadata": {},
     "output_type": "display_data"
    }
   ],
   "source": [
    "AIC(logMstarlogfgasWFit_fgas)\n",
    "AIC(logMstarlogfgasWFit_logmstar)\n",
    "AIC(logMstarlogfgasWFit_logmstar2)\n",
    "AIC(logMstarlogfgasWFit_fgaslogmstar2)"
   ]
  },
  {
   "cell_type": "markdown",
   "metadata": {},
   "source": [
    "#### Summary\n",
    "\n",
    "The quadratic fit using logMstar (without log f_gas) is clearly the best model."
   ]
  }
 ],
 "metadata": {
  "kernelspec": {
   "display_name": "R",
   "language": "R",
   "name": "ir"
  },
  "language_info": {
   "codemirror_mode": "r",
   "file_extension": ".r",
   "mimetype": "text/x-r-source",
   "name": "R",
   "pygments_lexer": "r",
   "version": "3.3.3"
  },
  "toc": {
   "colors": {
    "hover_highlight": "#DAA520",
    "running_highlight": "#FF0000",
    "selected_highlight": "#FFD700"
   },
   "moveMenuLeft": true,
   "nav_menu": {
    "height": "12px",
    "width": "252px"
   },
   "navigate_menu": true,
   "number_sections": true,
   "sideBar": true,
   "threshold": "3",
   "toc_cell": false,
   "toc_section_display": "block",
   "toc_window_display": false
  }
 },
 "nbformat": 4,
 "nbformat_minor": 1
}
